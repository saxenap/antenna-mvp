{
 "cells": [
  {
   "cell_type": "code",
   "execution_count": 141,
   "metadata": {},
   "outputs": [],
   "source": [
    "%reload_ext autoreload\n",
    "%autoreload 2\n",
    "import os, sys\n",
    "import logging\n",
    "import numpy as np, pandas as pd\n",
    "import config, rules\n",
    "from utilities import *"
   ]
  },
  {
   "cell_type": "code",
   "execution_count": 142,
   "metadata": {},
   "outputs": [],
   "source": [
    "rules = pd.read_csv(config.files['service_rules'])\n"
   ]
  },
  {
   "cell_type": "code",
   "execution_count": 155,
   "metadata": {},
   "outputs": [
    {
     "name": "stdout",
     "output_type": "stream",
     "text": [
      "text_match    text_match    text_match    text_match    text_match    text_match    text_match    text_match    text_match    text_match    text_match\n",
      "------------  ------------  ------------  ------------  ------------  ------------  ------------  ------------  ------------  ------------  ------------\n",
      "(1, 'A')      t             e             x             t             _             m             a             t             c             h\n",
      "(1, 'S')      t             e             x             t             _             m             a             t             c             h\n",
      "(3, 'A')      t             e             x             t             _             m             a             t             c             h\n",
      "(3, 'R')      t             e             x             t             _             m             a             t             c             h\n",
      "(3, 'S')      t             e             x             t             _             m             a             t             c             h\n",
      "(8, 'A')      t             e             x             t             _             m             a             t             c             h\n",
      "(8, 'R')      t             e             x             t             _             m             a             t             c             h\n",
      "(8, 'S')      t             e             x             t             _             m             a             t             c             h\n",
      "(12, 'A')     t             e             x             t             _             m             a             t             c             h\n",
      "(12, 'R')     t             e             x             t             _             m             a             t             c             h\n",
      "(12, 'S')     t             e             x             t             _             m             a             t             c             h\n",
      "(39, 'A')     t             e             x             t             _             m             a             t             c             h\n",
      "(39, 'S')     t             e             x             t             _             m             a             t             c             h\n"
     ]
    }
   ],
   "source": [
    "test = rules.groupby(['service_id', 'matching'])[['text_match']].apply(lambda x: ','.join(x))\n",
    "\n"
   ]
  },
  {
   "cell_type": "code",
   "execution_count": null,
   "metadata": {},
   "outputs": [],
   "source": []
  }
 ],
 "metadata": {
  "environment": {
   "name": "common-cpu.m59",
   "type": "gcloud",
   "uri": "gcr.io/deeplearning-platform-release/base-cpu:m59"
  },
  "kernelspec": {
   "display_name": "Python 3",
   "language": "python",
   "name": "python3"
  },
  "language_info": {
   "codemirror_mode": {
    "name": "ipython",
    "version": 3
   },
   "file_extension": ".py",
   "mimetype": "text/x-python",
   "name": "python",
   "nbconvert_exporter": "python",
   "pygments_lexer": "ipython3",
   "version": "3.7.8"
  }
 },
 "nbformat": 4,
 "nbformat_minor": 4
}
