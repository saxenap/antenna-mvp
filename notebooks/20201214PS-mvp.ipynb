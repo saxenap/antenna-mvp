{
 "cells": [
  {
   "cell_type": "code",
   "execution_count": 435,
   "metadata": {},
   "outputs": [],
   "source": [
    "%reload_ext autoreload\n",
    "%autoreload 2\n",
    "import os, sys\n",
    "import logging\n",
    "import numpy as np, pandas as pd\n",
    "import config, rules\n",
    "from utilities import *\n",
    "from _rulesbuilding import *"
   ]
  },
  {
   "cell_type": "code",
   "execution_count": null,
   "metadata": {},
   "outputs": [],
   "source": []
  },
  {
   "cell_type": "code",
   "execution_count": 436,
   "metadata": {},
   "outputs": [],
   "source": [
    "rules = pd.read_csv(config.files['service_rules'])\n",
    "rules = rules[(rules['text_match'].notna()) & (rules['text_exclude'].notna() == False)]\n",
    "\n",
    "regexer = GroupedDataRegex('|')\n",
    "\n",
    "matchers = []\n",
    "rdecorator = matchers.append(GroupedDataRegexDecorator(regexer, 'M', '(', ')'))\n",
    "sdecorator = matchers.append(GroupedDataRegexDecorator(regexer, 'S', '^(', ').*$'))\n",
    "adecorator = matchers.append(GroupedDataRegexDecorator(regexer, 'A', '^.*(', ').*$'))\n",
    "\n",
    "regexes = {}\n",
    "for matcher in matchers:\n",
    "    type = rules['matching']\n",
    "    regex = rules[rules['matching'] == matcher.getType()][['service_id','text_match']]\n",
    "    regex = matcher.make(regex.groupby('service_id')['text_match']).to_dict()\n",
    "    inv_map = {v: k for k, v in regex.items()}\n",
    "    regexes = {**regexes, **inv_map}"
   ]
  },
  {
   "cell_type": "code",
   "execution_count": 437,
   "metadata": {},
   "outputs": [],
   "source": [
    "signals = {'^.*(' + ('|'.join(v)) + ').*$' : k for k, v in config.signals.items()}"
   ]
  },
  {
   "cell_type": "code",
   "execution_count": null,
   "metadata": {},
   "outputs": [],
   "source": []
  },
  {
   "cell_type": "code",
   "execution_count": 438,
   "metadata": {},
   "outputs": [],
   "source": [
    "data = pd.read_csv(config.files['raw'])"
   ]
  },
  {
   "cell_type": "code",
   "execution_count": 439,
   "metadata": {},
   "outputs": [],
   "source": [
    "data = data[data['status'] != 'D']"
   ]
  },
  {
   "cell_type": "code",
   "execution_count": 440,
   "metadata": {},
   "outputs": [],
   "source": [
    "data['service_id'] = data[['description']]\n",
    "data['service_id'] = data[['service_id']].replace({'service_id':regexes}, regex=True)"
   ]
  },
  {
   "cell_type": "code",
   "execution_count": 441,
   "metadata": {},
   "outputs": [],
   "source": [
    "data['signal_type'] = data[['description']]\n",
    "data['signal_type'] = data[['signal_type']].replace({'signal_type': signals}, regex = True)"
   ]
  },
  {
   "cell_type": "code",
   "execution_count": 442,
   "metadata": {},
   "outputs": [],
   "source": [
    "data = data.sort_values('last_updated').drop_duplicates('item_id',keep='last')"
   ]
  },
  {
   "cell_type": "code",
   "execution_count": 443,
   "metadata": {},
   "outputs": [],
   "source": [
    "data = data.sort_values('last_updated').drop_duplicates('item_id',keep='last')"
   ]
  },
  {
   "cell_type": "code",
   "execution_count": null,
   "metadata": {},
   "outputs": [],
   "source": []
  },
  {
   "cell_type": "code",
   "execution_count": 444,
   "metadata": {},
   "outputs": [],
   "source": [
    "save_file(config.files['processed'], data.to_csv())"
   ]
  },
  {
   "cell_type": "code",
   "execution_count": 445,
   "metadata": {},
   "outputs": [],
   "source": [
    "# print(data.to_string())"
   ]
  }
 ],
 "metadata": {
  "environment": {
   "name": "common-cpu.m59",
   "type": "gcloud",
   "uri": "gcr.io/deeplearning-platform-release/base-cpu:m59"
  },
  "kernelspec": {
   "display_name": "Python 3",
   "language": "python",
   "name": "python3"
  },
  "language_info": {
   "codemirror_mode": {
    "name": "ipython",
    "version": 3
   },
   "file_extension": ".py",
   "mimetype": "text/x-python",
   "name": "python",
   "nbconvert_exporter": "python",
   "pygments_lexer": "ipython3",
   "version": "3.7.8"
  }
 },
 "nbformat": 4,
 "nbformat_minor": 4
}
