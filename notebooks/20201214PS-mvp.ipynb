{
 "cells": [
  {
   "cell_type": "code",
   "execution_count": 45,
   "metadata": {},
   "outputs": [],
   "source": [
    "%reload_ext autoreload\n",
    "%autoreload 2\n",
    "import os, sys\n",
    "sys.path.append('../')\n",
    "import logging\n",
    "import random\n",
    "import numpy as np, pandas as pd\n",
    "import config\n",
    "from utilities import *\n",
    "from _rulesbuilding import *\n",
    "from IPython.display import display, HTML"
   ]
  },
  {
   "cell_type": "code",
   "execution_count": 46,
   "metadata": {},
   "outputs": [],
   "source": [
    "# Load the ruleset\n",
    "rules = pd.read_csv(config.inputs['rules']['fullpath'])\n",
    "pd.options.mode.chained_assignment = None  # default='warn'"
   ]
  },
  {
   "cell_type": "code",
   "execution_count": null,
   "metadata": {},
   "outputs": [],
   "source": []
  },
  {
   "cell_type": "code",
   "execution_count": 48,
   "metadata": {},
   "outputs": [
    {
     "name": "stdout",
     "output_type": "stream",
     "text": [
      "('^(?=(STARZ).*)(?!.*(Arabia).*).*$|^(?=(STARZ).*)(?!.*(a^).*).*$|^(?=.*(STARZ).*)(?!.*(a^).*).*$|^(?=.*(STARZ).*)(?!.*(Your).*).*$|^(?=.*(STARZ).*)(?!.*(The '\n",
      " 'Roku '\n",
      " 'Channel).*).*$|^(?=(com.starz.starzplay.subscriptions).*)(?!.*(a^).*).*$|^(?=(^YouTube.+Starz).*)(?!.*(a^).*).*$|^(?=.*(Starz).*)(?!.*(a^).*).*$|^(?=(STARZ '\n",
      " '- Fake '\n",
      " 'Cancel).*)(?!.*(a^).*).*$|^(?=(STARZ).*)(?!.*(a^).*).*$|^(?=.*(STARZ).*)(?!.*(The '\n",
      " 'Roku Channel).*).*$|^(?=.*(STARZ).*)(?!.*(a^).*).*$|^(?=(STARZ - Fake '\n",
      " 'New).*)(?!.*(a^).*).*$|^(?=(STARZ - Fake Cancel Passive '\n",
      " 'Churn).*)(?!.*(a^).*).*$|^(?=(Your.*STARZ).*)(?!.*(a^).*).*$|^(?=(Your.*Starz).*)(?!.*((Orange)).*).*$|^(?=(Your.*STARZ).*)(?!.*(a^).*).*$|^(?=.*(STARZ).*)(?!.*(a^).*).*$|^(?=(STARZ '\n",
      " '- Fake New).*)(?!.*(a^).*).*$|^(?=(STARZ - Fake Cancel).*)(?!.*(a^).*).*$',\n",
      " 8)\n"
     ]
    }
   ],
   "source": [
    "\"\"\"\n",
    "Requirement\n",
    "Add the requirements to the regex builder\n",
    "1. S (start): if the pattern in ​text_match​ \n",
    "column is a prefix of the description string, \n",
    "a match is found for the corresponding service \n",
    "(both ID and name are included in the table)\n",
    "2. A (anywhere): similar to above, except \n",
    "that the pattern doesn’t have to be in the \n",
    "beginning of the description\n",
    "3. R (regular expression): use ​text_match​ \n",
    "as a regular regular expression\n",
    "\"\"\"\n",
    "\n",
    "_rules = rules\n",
    "_rules = _rules[(_rules['text_match'].notna())]\n",
    "_rules['text_match'].fillna('.*', inplace = True)\n",
    "\n",
    "_rules['text_exclude'].fillna('a^', inplace = True)\n",
    "_rules['text_exclude'] = '(?!.*(' + _rules['text_exclude'] + ').*).*$'\n",
    "\n",
    "prefix = np.where(_rules['matching'] == 'A', '^(?=.*(', '^(?=(') \n",
    "_rules['text_match'] = prefix + _rules['text_match'] + ').*)' + _rules['text_exclude']\n",
    "\n",
    "_rules = _rules.groupby('service_id')['text_match'].apply(\n",
    "            lambda t: '|'.join([str(i) for i in t])\n",
    "        ).astype(str)\n",
    "\n",
    "\n",
    "regexes_dict = {}\n",
    "inv_map = {v: k for k, v in _rules.items()}\n",
    "regexes_dict = {**regexes_dict, **inv_map}\n",
    "\n",
    "output(random.choice(list(regexes_dict.items())))"
   ]
  },
  {
   "cell_type": "code",
   "execution_count": null,
   "metadata": {},
   "outputs": [],
   "source": [
    "\"\"\"\n",
    "Build the dictionary to map signals from\n",
    "description text -\n",
    "The mapping dictionay of signal keywords \n",
    "can be configured in ROOT_DIR/config.py\n",
    "\"\"\"\n",
    "\n",
    "signals = {'^.*(' + ('|'.join(v)) + ').*$' : k for k, v in config.inputs['signals'].items()}\n",
    "\n",
    "output(signals)"
   ]
  },
  {
   "cell_type": "code",
   "execution_count": null,
   "metadata": {},
   "outputs": [],
   "source": [
    "\"\"\"\n",
    "Build the dictionary to map signals from\n",
    "description text -\n",
    "The mapping dictionay of signal keywords \n",
    "can be configured in ROOT_DIR/config.py\n",
    "\"\"\"\n",
    "\n",
    "\n",
    "aservices = rules\n",
    "aservices = aservices[aservices['service_name'].isin(config.inputs['allowed_services'])]\n",
    "aservices = dict(zip(aservices['service_id'], aservices['service_name']))\n",
    "\n",
    "output(aservices)"
   ]
  },
  {
   "cell_type": "code",
   "execution_count": null,
   "metadata": {},
   "outputs": [],
   "source": []
  },
  {
   "cell_type": "markdown",
   "metadata": {},
   "source": [
    "## Data Processing ##     \n",
    "\n",
    "> Args:  \n",
    ">  1. `regexes_dict (dict of str: int): Defines the regexes that map to service ids`\n",
    "\n",
    ">  2. `signals (dict of str: int): Defines the regexes that map to signals from the description`\n",
    "\n",
    ">  3. `aservices (dict of int: str): Defines the service ids that map to allowed service names`\n",
    "\n"
   ]
  },
  {
   "cell_type": "code",
   "execution_count": null,
   "metadata": {},
   "outputs": [],
   "source": [
    "# Load the dataset\n",
    "data = pd.read_csv(config.inputs['data']['fullpath'])"
   ]
  },
  {
   "cell_type": "code",
   "execution_count": null,
   "metadata": {},
   "outputs": [],
   "source": [
    "\"\"\"\n",
    "Requirement\n",
    "There 3 types of statuses:\n",
    "1. N (new): this transaction is new\n",
    "2. U (update): this transaction is \n",
    "updated; discard the old one\n",
    "3. D (delete): remove this transaction\n",
    "\"\"\"\n",
    "\n",
    "# Remove transactions with status 'D' as per requirements\n",
    "data = data[data['status'] != 'D']\n",
    "\n",
    "# Remove transactions that have an older entry\n",
    "data = data.sort_values('last_updated').drop_duplicates('item_id',keep='last')"
   ]
  },
  {
   "cell_type": "code",
   "execution_count": 51,
   "metadata": {},
   "outputs": [
    {
     "name": "stdout",
     "output_type": "stream",
     "text": [
      "|     |    item_id |    buyer_id | order_date   |   merchant_id | merchant_name   | status   | last_updated     | description                                                                                 |   service_id | service_name   | signal_type                                                  |\n",
      "|----:|-----------:|------------:|:-------------|--------------:|:----------------|:---------|:-----------------|:--------------------------------------------------------------------------------------------|-------------:|:---------------|:-------------------------------------------------------------|\n",
      "|   1 | 1191248937 | -1039890773 | 2016-02-19   |             6 | Netflix         | N        | 2016-02-20 11:18 | we've cancelled your Netflix Account. This change will be effective Sunday, March 20, 2016. |            3 | Netflix        | cancellation                                                 |\n",
      "|   2 | 1221099193 |  -751620046 | 2016-02-27   |             6 | Netflix         | N        | 2016-02-28 22:26 | Thanks for joining Netflix!                                                                 |            3 | Netflix        | signup                                                       |\n",
      "|   3 | 1294618642 |   -78172962 | 2016-03-18   |             6 | Netflix         | N        | 2016-03-18 16:18 | we've cancelled your Netflix Account. This change will be effective Monday, April 11, 2016. |            3 | Netflix        | cancellation                                                 |\n",
      "|   5 | 1537007003 |  1799691237 | 2016-06-28   |             6 | Netflix         | N        | 2016-06-28 19:49 | Thanks for joining Netflix!                                                                 |            3 | Netflix        | signup                                                       |\n",
      "|   8 | 1613595118 |  -959572143 | 2016-07-30   |             6 | Netflix         | N        | 2016-07-31 14:47 | Thanks for coming back to Netflix!                                                          |            3 | Netflix        | signup                                                       |\n",
      "|  16 | 2250411156 |   221400612 | 2016-11-09   |             6 | Netflix         | N        | 2017-02-05 13:05 | Thanks for coming back to Netflix!                                                          |            3 | Netflix        | signup                                                       |\n",
      "|  22 | 2758666338 |  -152874962 | 2016-03-03   |          1178 | Hulu            | N        | 2017-09-23 11:19 | Welcome to Hulu Limited Commercials plan month                                              |            3 | Netflix        | Welcome to Hulu Limited Commercials plan month               |\n",
      "|  23 | 2758747220 | -1422041622 | 2016-02-10   |          1178 | Hulu            | N        | 2017-09-23 11:19 | Welcome to Hulu No Commercials plan month                                                   |            3 | Netflix        | Welcome to Hulu No Commercials plan month                    |\n",
      "|  24 | 2758747349 | -1422041622 | 2016-01-10   |          1178 | Hulu            | N        | 2017-09-23 11:19 | Welcome to Hulu No Commercials plan month                                                   |            3 | Netflix        | Welcome to Hulu No Commercials plan month                    |\n",
      "|  25 | 2758815097 |   470057190 | 2016-12-18   |          1178 | Hulu            | N        | 2017-09-23 11:19 | Welcome to Hulu Limited Commercials plan month                                              |            3 | Netflix        | Welcome to Hulu Limited Commercials plan month               |\n",
      "|  26 | 2878193462 |  -274131254 | 2016-12-07   |          1178 | Hulu            | N        | 2017-09-23 11:19 | Hulu subscription                                                                           |            1 | Hulu           | Hulu subscription                                            |\n",
      "|  29 | 3142477416 |   470057190 | 2016-06-01   |          1178 | Hulu            | N        | 2017-09-24 11:17 | Welcome to Hulu Limited Commercials plan month                                              |            3 | Netflix        | Welcome to Hulu Limited Commercials plan month               |\n",
      "|  28 | 3142471431 |   470057190 | 2016-10-27   |          1178 | Hulu            | N        | 2017-09-24 11:17 | Welcome to Hulu Limited Commercials plan month                                              |            3 | Netflix        | Welcome to Hulu Limited Commercials plan month               |\n",
      "|  32 | 3554922097 | -1158816770 | 2016-12-29   |          1178 | Hulu            | N        | 2017-12-16 14:16 | Hulu subscription                                                                           |            1 | Hulu           | Hulu subscription                                            |\n",
      "|  33 | 3554939338 | -1158816770 | 2016-11-29   |          1178 | Hulu            | N        | 2017-12-16 14:16 | Hulu subscription                                                                           |            1 | Hulu           | Hulu subscription                                            |\n",
      "|  34 | 3555259484 | -1158816770 | 2016-08-29   |          1178 | Hulu            | N        | 2017-12-16 14:16 | Hulu subscription                                                                           |            1 | Hulu           | Hulu subscription                                            |\n",
      "|  35 | 3555271491 | -1158816770 | 2016-10-29   |          1178 | Hulu            | N        | 2017-12-16 14:16 | Hulu subscription                                                                           |            1 | Hulu           | Hulu subscription                                            |\n",
      "|  36 | 3555294774 | -1158816770 | 2016-07-29   |          1178 | Hulu            | N        | 2017-12-16 14:16 | Hulu subscription                                                                           |            1 | Hulu           | Hulu subscription                                            |\n",
      "|  40 | 3721943009 |   211305218 | 2016-10-16   |             6 | Netflix         | N        | 2018-01-19 12:23 | we've cancelled your Netflix Account                                                        |            3 | Netflix        | cancellation                                                 |\n",
      "|  38 | 3721942246 |   211305218 | 2016-07-17   |             6 | Netflix         | N        | 2018-01-19 12:23 | we've cancelled your Netflix Account                                                        |            3 | Netflix        | cancellation                                                 |\n",
      "|  41 | 4024926816 | -1101536587 | 2016-06-14   |          1178 | Hulu            | N        | 2018-03-20 10:49 | Welcome to Hulu Limited Commercials plan month                                              |            3 | Netflix        | Welcome to Hulu Limited Commercials plan month               |\n",
      "|  42 | 4024963082 | -1101536587 | 2016-04-09   |          1178 | Hulu            | N        | 2018-03-20 10:49 | Welcome to Hulu Limited Commercials plan month                                              |            3 | Netflix        | Welcome to Hulu Limited Commercials plan month               |\n",
      "|  44 | 4024954171 | -1101536587 | 2016-04-11   |             6 | Netflix         | N        | 2018-03-20 10:49 | we've cancelled your Netflix Account                                                        |            3 | Netflix        | cancellation                                                 |\n",
      "|  45 | 4024957644 | -1101536587 | 2016-05-04   |             6 | Netflix         | N        | 2018-03-20 10:49 | we've cancelled your Netflix Account                                                        |            3 | Netflix        | cancellation                                                 |\n",
      "|  59 | 4569732032 |  1950170932 | 2016-03-16   |          1178 | Hulu            | N        | 2018-07-22 10:38 | Hulu subscription                                                                           |            1 | Hulu           | Hulu subscription                                            |\n",
      "|  57 | 4569726116 |  1950170932 | 2016-05-16   |          1178 | Hulu            | N        | 2018-07-22 10:38 | Hulu subscription                                                                           |            1 | Hulu           | Hulu subscription                                            |\n",
      "|  56 | 4569725162 |  1950170932 | 2016-06-16   |          1178 | Hulu            | N        | 2018-07-22 10:38 | Hulu subscription                                                                           |            1 | Hulu           | Hulu subscription                                            |\n",
      "|  55 | 4569722713 |  1950170932 | 2016-07-16   |          1178 | Hulu            | N        | 2018-07-22 10:38 | Hulu subscription                                                                           |            1 | Hulu           | Hulu subscription                                            |\n",
      "|  58 | 4569726679 |  1950170932 | 2016-04-16   |          1178 | Hulu            | N        | 2018-07-22 10:38 | Hulu subscription                                                                           |            1 | Hulu           | Hulu subscription                                            |\n",
      "|  53 | 4569714892 |  1950170932 | 2016-11-16   |          1178 | Hulu            | N        | 2018-07-22 10:38 | Hulu subscription                                                                           |            1 | Hulu           | Hulu subscription                                            |\n",
      "|  52 | 4569714877 |  1950170932 | 2016-10-16   |          1178 | Hulu            | N        | 2018-07-22 10:38 | Hulu subscription                                                                           |            1 | Hulu           | Hulu subscription                                            |\n",
      "|  51 | 4569712843 |  1950170932 | 2016-12-16   |          1178 | Hulu            | N        | 2018-07-22 10:38 | Hulu subscription                                                                           |            1 | Hulu           | Hulu subscription                                            |\n",
      "|  54 | 4569721823 |  1950170932 | 2016-08-16   |          1178 | Hulu            | N        | 2018-07-22 10:38 | Hulu subscription                                                                           |            1 | Hulu           | Hulu subscription                                            |\n",
      "|  65 | 5130979480 |  1680961363 | 2016-05-26   |             6 | Netflix         | N        | 2018-11-12 10:36 | we've cancelled your Netflix Account                                                        |            3 | Netflix        | cancellation                                                 |\n",
      "|  73 | 5824992352 |  1429772968 | 2016-01-10   |          1178 | Hulu            | N        | 2019-02-11 10:26 | Hulu subscription                                                                           |            1 | Hulu           | Hulu subscription                                            |\n",
      "|  72 | 5824989719 |  1429772968 | 2016-04-10   |          1178 | Hulu            | N        | 2019-02-11 10:26 | Hulu subscription                                                                           |            1 | Hulu           | Hulu subscription                                            |\n",
      "|  71 | 5824989686 |  1429772968 | 2016-03-10   |          1178 | Hulu            | N        | 2019-02-11 10:26 | Hulu subscription                                                                           |            1 | Hulu           | Hulu subscription                                            |\n",
      "|  70 | 5824989615 |  1429772968 | 2016-02-10   |          1178 | Hulu            | N        | 2019-02-11 10:26 | Hulu subscription                                                                           |            1 | Hulu           | Hulu subscription                                            |\n",
      "|  66 | 5824975068 |  1429772968 | 2016-12-28   |          1178 | Hulu            | N        | 2019-02-11 10:26 | Hulu subscription                                                                           |            1 | Hulu           | Hulu subscription                                            |\n",
      "|  68 | 5824983429 |  1429772968 | 2016-06-11   |          1178 | Hulu            | N        | 2019-02-11 10:26 | Hulu subscription                                                                           |            1 | Hulu           | Hulu subscription                                            |\n",
      "|  67 | 5824975345 |  1429772968 | 2016-11-28   |          1178 | Hulu            | N        | 2019-02-11 10:26 | Hulu subscription                                                                           |            1 | Hulu           | Hulu subscription                                            |\n",
      "|  69 | 5824983502 |  1429772968 | 2016-07-17   |          1178 | Hulu            | N        | 2019-02-11 10:26 | Hulu subscription                                                                           |            1 | Hulu           | Hulu subscription                                            |\n",
      "|  80 | 6753250875 |  -136276053 | 2016-05-01   |             6 | Netflix         | N        | 2019-08-09 10:12 | we've cancelled your Netflix Account                                                        |            3 | Netflix        | cancellation                                                 |\n",
      "|  81 | 6753254623 |  -136276053 | 2016-03-31   |             6 | Netflix         | N        | 2019-08-09 10:12 | we've cancelled your Netflix Account                                                        |            3 | Netflix        | cancellation                                                 |\n",
      "| 104 | 5130977191 |  1680961363 | 2016-08-15   |             6 | Netflix         | U        | 2019-12-19 11:53 | Thanks for coming back to Netflix!                                                          |            3 | Netflix        | signup                                                       |\n",
      "| 103 | 5130971735 |  1680961363 | 2016-12-25   |             6 | Netflix         | U        | 2019-12-19 11:53 | Welcome back to Netflix, your plan is 2 screens at a time                                   |            3 | Netflix        | signup                                                       |\n",
      "| 102 | 4024959559 | -1101536587 | 2016-05-03   |             6 | Netflix         | U        | 2019-12-19 11:53 | Thanks for coming back to Netflix!                                                          |            3 | Netflix        | signup                                                       |\n",
      "| 101 | 4024928456 | -1101536587 | 2016-08-05   |             6 | Netflix         | U        | 2019-12-19 11:53 | Thanks for coming back to Netflix!                                                          |            3 | Netflix        | signup                                                       |\n",
      "| 100 | 3721942276 |   211305218 | 2016-07-17   |             6 | Netflix         | U        | 2019-12-19 11:53 | welcome back to Netflix!                                                                    |            3 | Netflix        | signup                                                       |\n",
      "|  99 | 3721942186 |   211305218 | 2016-08-20   |             6 | Netflix         | U        | 2019-12-19 11:53 | Thanks for coming back to Netflix!                                                          |            3 | Netflix        | signup                                                       |\n",
      "|  97 | 3123590372 |   859026703 | 2016-08-02   |             6 | Netflix         | U        | 2019-12-19 11:53 | Thanks for coming back to Netflix!                                                          |            3 | Netflix        | signup                                                       |\n",
      "|  96 | 2758393063 |  -598164182 | 2016-03-22   |             6 | Netflix         | U        | 2019-12-19 11:53 | Thanks for coming back to Netflix!                                                          |            3 | Netflix        | signup                                                       |\n",
      "|  95 | 2196785847 | -1552568462 | 2016-05-25   |             6 | Netflix         | U        | 2019-12-19 11:53 | Thanks for coming back to Netflix!                                                          |            3 | Netflix        | signup                                                       |\n",
      "|  98 | 3347475355 |  1969977588 | 2016-01-08   |             6 | Netflix         | U        | 2019-12-19 11:53 | welcome back to Netflix!                                                                    |            3 | Netflix        | signup                                                       |\n",
      "|  93 | 2182589118 |   -78172962 | 2016-12-29   |             6 | Netflix         | U        | 2019-12-19 11:53 | Welcome back to Netflix, your plan is 2 screens at a time                                   |            3 | Netflix        | signup                                                       |\n",
      "|  92 | 2182588796 | -1039890773 | 2016-12-30   |             6 | Netflix         | U        | 2019-12-19 11:53 | Welcome back to Netflix, your plan is 1 screen at a time                                    |            3 | Netflix        | signup                                                       |\n",
      "|  91 | 2042478559 |   -59961403 | 2016-03-03   |             6 | Netflix         | U        | 2019-12-19 11:53 | we've changed your plan over to the 4 screens at a time plan                                |            3 | Netflix        | we've changed your plan over to the 4 screens at a time plan |\n",
      "|  90 | 2042478017 |   -59961403 | 2016-03-03   |             6 | Netflix         | U        | 2019-12-19 11:53 | Thanks for coming back to Netflix!                                                          |            3 | Netflix        | signup                                                       |\n",
      "|  89 | 1771674890 | -1077439887 | 2016-06-12   |             6 | Netflix         | U        | 2019-12-19 11:53 | Thanks for coming back to Netflix!                                                          |            3 | Netflix        | signup                                                       |\n",
      "|  88 | 1597588427 | -1422041622 | 2016-07-23   |             6 | Netflix         | U        | 2019-12-19 11:53 | Thanks for coming back to Netflix!                                                          |            3 | Netflix        | signup                                                       |\n",
      "|  87 | 1297291442 |  -117636062 | 2016-03-18   |             6 | Netflix         | U        | 2019-12-19 11:53 | Thanks for coming back to Netflix!                                                          |            3 | Netflix        | signup                                                       |\n",
      "|  86 | 1191248928 | -1039890773 | 2016-02-19   |             6 | Netflix         | U        | 2019-12-19 11:53 | Thanks for coming back to Netflix!                                                          |            3 | Netflix        | signup                                                       |\n",
      "|  85 | 1063273798 |  2095119524 | 2016-01-03   |             6 | Netflix         | U        | 2019-12-19 11:53 | welcome to Netflix!                                                                         |            3 | Netflix        | signup                                                       |\n",
      "|  94 | 2196625386 | -1552568462 | 2016-10-25   |             6 | Netflix         | U        | 2019-12-19 11:53 | we've changed your plan over to the 1 screen at a time plan                                 |            3 | Netflix        | we've changed your plan over to the 1 screen at a time plan  |\n",
      "| 111 | 6968736029 | -1517061831 | 2016-05-30   |             6 | Netflix         | U        | 2020-01-18 10:49 | Thanks for joining Netflix!                                                                 |            3 | Netflix        | signup                                                       |\n",
      "| 110 | 6968347981 | -1517061831 | 2016-08-08   |             6 | Netflix         | U        | 2020-01-18 10:49 | Thanks for coming back to Netflix!                                                          |            3 | Netflix        | signup                                                       |\n",
      "| 109 | 6753250826 |  -136276053 | 2016-05-01   |             6 | Netflix         | U        | 2020-01-18 10:49 | Netflix subscription                                                                        |            3 | Netflix        | Netflix subscription                                         |\n",
      "| 106 | 5887875118 | -1227596786 | 2016-05-25   |             6 | Netflix         | U        | 2020-01-18 10:49 | Thanks for coming back to Netflix!                                                          |            3 | Netflix        | signup                                                       |\n",
      "| 107 | 6355181342 | -1573410884 | 2016-10-01   |             6 | Netflix         | U        | 2020-01-18 10:49 | Thanks for coming back to Netflix!                                                          |            3 | Netflix        | signup                                                       |\n",
      "| 105 | 5887873147 | -1227596786 | 2016-09-06   |             6 | Netflix         | U        | 2020-01-18 10:49 | we've changed your plan over to the 2 screens at a time plan                                |            3 | Netflix        | we've changed your plan over to the 2 screens at a time plan |\n",
      "| 108 | 6355187336 | -1573410884 | 2016-07-25   |             6 | Netflix         | U        | 2020-01-18 10:49 | Thanks for coming back to Netflix!                                                          |            3 | Netflix        | signup                                                       |\n",
      "| 112 | 7976967138 | -1866211375 | 2016-01-21   |             6 | Netflix         | N        | 2020-01-22 10:45 | Thanks for coming back to Netflix!                                                          |            3 | Netflix        | signup                                                       |\n",
      "| 116 | 8121435117 |  -167843472 | 2016-05-23   |          1178 | Hulu            | N        | 2020-02-18 10:36 | Welcome to Hulu Limited Commercials plan month                                              |            3 | Netflix        | Welcome to Hulu Limited Commercials plan month               |\n",
      "| 122 | 8225554305 | -1163503120 | 2016-06-06   |             6 | Netflix         | N        | 2020-02-27 13:37 | welcome back to Netflix!                                                                    |            3 | Netflix        | signup                                                       |\n",
      "| 123 | 8228101013 | -1163503120 | 2016-05-02   |             6 | Netflix         | N        | 2020-02-27 13:37 | welcome back to Netflix!                                                                    |            3 | Netflix        | signup                                                       |\n",
      "| 126 | 8304756894 | -1163503120 | 2016-07-06   |             6 | Netflix         | N        | 2020-03-07 11:55 | Thanks for coming back to Netflix!                                                          |            3 | Netflix        | signup                                                       |\n",
      "| 125 | 8303457484 | -1981327096 | 2016-03-10   |             6 | Netflix         | N        | 2020-03-07 11:55 | Thanks for coming back to Netflix!                                                          |            3 | Netflix        | signup                                                       |\n",
      "| 127 | 8311659268 |   592020373 | 2016-06-14   |             6 | Netflix         | N        | 2020-03-08 11:03 | Thanks for coming back to Netflix!                                                          |            3 | Netflix        | signup                                                       |\n",
      "| 137 | 8634694440 |  -289027232 | 2016-11-04   |             6 | Netflix         | N        | 2020-05-03 10:21 | we've changed your plan over to the 2 screens at a time plan                                |            3 | Netflix        | we've changed your plan over to the 2 screens at a time plan |\n",
      "| 138 | 8656137536 |  1660055323 | 2016-12-19   |             6 | Netflix         | N        | 2020-05-06 10:08 | Thanks for coming back to Netflix!                                                          |            3 | Netflix        | signup                                                       |\n",
      "| 139 | 8905026709 | -1199890392 | 2016-05-03   |             6 | Netflix         | N        | 2020-06-17 10:19 | Thanks for coming back to Netflix!                                                          |            3 | Netflix        | signup                                                       |\n",
      "| 143 | 8978265304 | -2140382112 | 2016-06-27   |             6 | Netflix         | N        | 2020-06-29 09:07 | Thanks for coming back to Netflix!                                                          |            3 | Netflix        | signup                                                       |\n",
      "| 144 | 8992737617 |   142358379 | 2016-03-29   |          1178 | Hulu            | N        | 2020-07-02 10:14 | Welcome to Hulu Limited Commercials plan month                                              |            3 | Netflix        | Welcome to Hulu Limited Commercials plan month               |\n",
      "| 145 | 9009920331 |   113854215 | 2016-09-18   |             6 | Netflix         | N        | 2020-07-04 10:17 | Thanks for coming back to Netflix!                                                          |            3 | Netflix        | signup                                                       |\n",
      "| 149 | 9087961339 | -1440420847 | 2016-12-28   |          1178 | Hulu            | N        | 2020-07-16 10:21 | Hulu subscription                                                                           |            1 | Hulu           | Hulu subscription                                            |\n",
      "| 150 | 9087973347 | -1440420847 | 2016-04-28   |          1178 | Hulu            | N        | 2020-07-16 10:21 | Hulu subscription                                                                           |            1 | Hulu           | Hulu subscription                                            |\n",
      "| 151 | 9192023052 |  -230804971 | 2016-05-05   |             6 | Netflix         | N        | 2020-08-05 10:34 | welcome back to Netflix!                                                                    |            3 | Netflix        | signup                                                       |\n",
      "| 152 | 9218635047 | -1064989218 | 2016-07-08   |             6 | Netflix         | N        | 2020-08-10 09:23 | Welcome back to Netflix!                                                                    |            3 | Netflix        | signup                                                       |\n",
      "| 153 | 9283460582 |   197934763 | 2016-12-05   |             6 | Netflix         | N        | 2020-08-22 09:47 | Thanks for coming back to Netflix!                                                          |            3 | Netflix        | signup                                                       |\n",
      "| 161 | 9456091912 |   458698410 | 2016-05-12   |          1178 | Hulu            | N        | 2020-09-24 10:10 | Hulu subscription                                                                           |            1 | Hulu           | Hulu subscription                                            |\n",
      "| 160 | 9456091289 |   458698410 | 2016-04-12   |          1178 | Hulu            | N        | 2020-09-24 10:10 | Hulu subscription                                                                           |            1 | Hulu           | Hulu subscription                                            |\n",
      "| 162 | 9480341017 |  -957154296 | 2016-11-25   |             6 | Netflix         | N        | 2020-09-29 09:51 | we've cancelled your membership                                                             |            3 | Netflix        | cancellation                                                 |\n",
      "| 163 | 9526501725 | -1072471763 | 2016-07-05   |             6 | Netflix         | N        | 2020-10-07 10:16 | welcome to Netflix!                                                                         |            3 | Netflix        | signup                                                       |\n",
      "| 164 | 9529974573 | -1190471943 | 2016-11-08   |          1178 | Hulu            | N        | 2020-10-08 09:51 | Welcome to Hulu Limited Commercials plan month                                              |            3 | Netflix        | Welcome to Hulu Limited Commercials plan month               |\n",
      "| 165 | 9528512440 | -1052896650 | 2016-07-31   |             6 | Netflix         | N        | 2020-10-08 09:51 | we've cancelled your Netflix Account                                                        |            3 | Netflix        | cancellation                                                 |\n",
      "| 166 | 9528512560 | -1052896650 | 2016-08-08   |             6 | Netflix         | N        | 2020-10-08 09:51 | Thanks for coming back to Netflix!                                                          |            3 | Netflix        | signup                                                       |\n",
      "| 167 | 9548920339 |  1724361521 | 2016-11-15   |             6 | Netflix         | N        | 2020-10-12 09:41 | Thanks for coming back to Netflix!                                                          |            3 | Netflix        | signup                                                       |\n",
      "| 168 | 9707741036 |   209419893 | 2016-10-16   |             6 | Netflix         | N        | 2020-11-12 09:52 | Thanks for coming back to Netflix!                                                          |            3 | Netflix        | signup                                                       |\n",
      "| 169 | 9707748256 |   209419893 | 2016-04-11   |             6 | Netflix         | N        | 2020-11-12 09:52 | Thanks for coming back to Netflix!                                                          |            3 | Netflix        | signup                                                       |\n"
     ]
    }
   ],
   "source": [
    "# Copy the description column \n",
    "data['service_id'] = data[['description']]\n",
    "\n",
    "# Replace the description in the new service_id\n",
    "# column with the matching service_id from\n",
    "# regexes_dict that we created above\n",
    "data['service_id'] = data[['service_id']].replace({'service_id':regexes_dict}, regex=True)\n",
    "\n",
    "print(data.to_markdown())\n",
    "\n",
    "print(data.to_html())"
   ]
  },
  {
   "cell_type": "code",
   "execution_count": null,
   "metadata": {},
   "outputs": [],
   "source": [
    "\"\"\"\n",
    "Requirement\n",
    "To simplify the project, you only need to \n",
    "consider the following services, although\n",
    "the data may include many others.\n",
    "● Netflix -> 3\n",
    "● Hulu -> 1\n",
    "● CBS All Access  -> 39\n",
    "● Starz -> 8\n",
    "● Showtime -> 12\n",
    "\"\"\"\n",
    "data = data[data['service_id'].isin(list(aservices.keys()))]\n",
    "\n",
    "doutput(data.head())\n",
    "\n",
    "\n",
    "\n",
    "# Add the service names corresponding \n",
    "# to the service id\n",
    "\n",
    "# Copy the description column \n",
    "\n",
    "data['service_name'] = data[['service_id']]\n",
    "data['service_name'] = data[['service_name']].replace({'service_name': aservices})\n"
   ]
  },
  {
   "cell_type": "code",
   "execution_count": null,
   "metadata": {},
   "outputs": [],
   "source": [
    "\"\"\"\n",
    "Requirement\n",
    "You still need to figure out what kind \n",
    "of action (signup versus cancellation) \n",
    "the remaining transactions are about.\n",
    "If there are trial signup and cancellation, \n",
    "please make your own judgment as to how \n",
    "to treat them.\n",
    "\"\"\"\n",
    "data['signal_type'] = data[['description']]\n",
    "data['signal_type'] = data[['signal_type']].replace({'signal_type': signals}, regex = True)"
   ]
  },
  {
   "cell_type": "code",
   "execution_count": null,
   "metadata": {},
   "outputs": [],
   "source": []
  },
  {
   "cell_type": "code",
   "execution_count": null,
   "metadata": {},
   "outputs": [],
   "source": [
    "# Save the processed dataset locally\n",
    "save_file(config.outputs['local']['fullpath'], data.to_csv())"
   ]
  },
  {
   "cell_type": "markdown",
   "metadata": {},
   "source": [
    "**⭣ This is the local link to the processed file: ⭣**"
   ]
  },
  {
   "cell_type": "code",
   "execution_count": null,
   "metadata": {},
   "outputs": [],
   "source": [
    "# Output Local URL\n",
    "output(config.outputs['local']['fullpath'])"
   ]
  },
  {
   "cell_type": "code",
   "execution_count": null,
   "metadata": {},
   "outputs": [],
   "source": [
    "\"\"\"\n",
    "Save a copy of the processed dataset \n",
    "to Google. Use IAM roles for authentication.\n",
    "\n",
    "Requirement\n",
    "Output data is accessible from a common \n",
    "cloud storage (i.e. AWS S3 or Google Storage)\n",
    "\"\"\"\n",
    "from google.cloud import storage\n",
    "\n",
    "client = storage.Client()\n",
    "bucket = client.get_bucket(config.outputs['cloud']['bucket_name'])\n",
    "blob = bucket.blob(config.outputs['local']['filename'])\n",
    "blob.upload_from_filename(config.outputs['local']['fullpath'])\n"
   ]
  },
  {
   "cell_type": "markdown",
   "metadata": {},
   "source": [
    "**⭣ This is the Cloud URL to the processed file: ⭣**"
   ]
  },
  {
   "cell_type": "code",
   "execution_count": null,
   "metadata": {},
   "outputs": [],
   "source": [
    "# Output Cloud URL\n",
    "output(blob.public_url)"
   ]
  },
  {
   "cell_type": "code",
   "execution_count": null,
   "metadata": {},
   "outputs": [],
   "source": []
  },
  {
   "cell_type": "code",
   "execution_count": null,
   "metadata": {},
   "outputs": [],
   "source": [
    "# print(data.to_string())"
   ]
  }
 ],
 "metadata": {
  "environment": {
   "name": "common-cpu.m59",
   "type": "gcloud",
   "uri": "gcr.io/deeplearning-platform-release/base-cpu:m59"
  },
  "kernelspec": {
   "display_name": "Python 3",
   "language": "python",
   "name": "python3"
  },
  "language_info": {
   "codemirror_mode": {
    "name": "ipython",
    "version": 3
   },
   "file_extension": ".py",
   "mimetype": "text/x-python",
   "name": "python",
   "nbconvert_exporter": "python",
   "pygments_lexer": "ipython3",
   "version": "3.7.8"
  }
 },
 "nbformat": 4,
 "nbformat_minor": 4
}
