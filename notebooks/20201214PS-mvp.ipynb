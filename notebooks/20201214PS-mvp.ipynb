{
 "cells": [
  {
   "cell_type": "code",
   "execution_count": 239,
   "metadata": {},
   "outputs": [],
   "source": [
    "%reload_ext autoreload\n",
    "%autoreload 2\n",
    "import os, sys\n",
    "import logging\n",
    "import numpy as np, pandas as pd\n",
    "import config, rules\n",
    "from utilities import *\n",
    "from _rulesbuilding import *"
   ]
  },
  {
   "cell_type": "code",
   "execution_count": 240,
   "metadata": {},
   "outputs": [],
   "source": [
    "rules = pd.read_csv(config.files['service_rules'])"
   ]
  },
  {
   "cell_type": "code",
   "execution_count": 241,
   "metadata": {},
   "outputs": [],
   "source": [
    "copydd = rules[(rules['text_match'].notna())]"
   ]
  },
  {
   "cell_type": "code",
   "execution_count": 242,
   "metadata": {},
   "outputs": [
    {
     "name": "stdout",
     "output_type": "stream",
     "text": [
      "{'^(CBS |CFS|Lim Commercials 3mo|CBS - Fake Cancel|CBS All Access|Commercial Free 1 Week|CBS - Fake New|CBS All Access|CBS - Fake Cancel|Cancellation Confirmation CBS|CBS - Fake Cancel Passive Churn)$': 39,\n",
      " '^(Netflix|Basic (Netflix)|Premium (Netflix)|Standard (Netflix)|Netflix - Fake Cancel Passive Churn|Netflix)$': 3,\n",
      " '^(SHOWTIME|SHOWTIME - Fake New|SHOWTIME|Showtime Subscription|Cancellation Confirmation SHOWTIME|SHOWTIME - Fake Cancel|SHOWTIME - Fake Cancel|CBS All Access and Showtime|Showtime 1 month free trial|Showtime|SHOWTIME - Fake New|SHOWTIME - Fake Cancel)$': 12,\n",
      " '^(STARZ|STARZ|com.starz.starzplay.subscriptions|STARZ - Fake Cancel|STARZ|STARZ - Fake New|STARZ - Fake Cancel Passive Churn|STARZ - Fake New|STARZ - Fake Cancel)$': 8,\n",
      " '^(hulu|Hulu|Renewable Subscription iOS|Disney Bundle: Disney+, Hulu, and ESPN+|Renewable Subscription Apple TV|Hulu|Hulu - Fake New current subscriber)$': 1,\n",
      " '^.*((Netflix)|Netflix).*$': 3,\n",
      " '^.*(CBS|CBS|All Access|CBS).*$': 39,\n",
      " '^.*(Disney bundle subscription has been canceled).*$': 1,\n",
      " '^.*(SHOWTIME|Showtime|Showtime|Showtime|SHOWTIME|Showtime|SHOWTIME|SHOW|SHOWTIME|SHOWTIME|Showtime 1 week free trial|SHOWTIME).*$': 12,\n",
      " '^.*(STARZ|STARZ|STARZ|Starz|STARZ|STARZ|STARZ).*$': 8}\n"
     ]
    }
   ],
   "source": [
    "matchers = []\n",
    "regexer = GroupedDataRegex('|')\n",
    "\n",
    "rdecorator = matchers.append(GroupedDataRegexDecorator(regexer, 'M', '(', ')'))\n",
    "sdecorator = matchers.append(GroupedDataRegexDecorator(regexer, 'S', '^(', ')$'))\n",
    "adecorator = matchers.append(GroupedDataRegexDecorator(regexer, 'A', '^.*(', ').*$'))\n",
    "\n",
    "regexes = {}\n",
    "for matcher in matchers:\n",
    "    type = copydd['matching']\n",
    "    regex = copydd[copydd['matching'] == matcher.getType()][['service_id','text_match']]\n",
    "    regex = matcher.make(regex.groupby('service_id')['text_match']).to_dict()\n",
    "    inv_map = {v: k for k, v in regex.items()}\n",
    "    regexes = {**regexes, **inv_map}\n",
    "    \n",
    "\n",
    "output(regexes)"
   ]
  },
  {
   "cell_type": "code",
   "execution_count": null,
   "metadata": {},
   "outputs": [],
   "source": []
  }
 ],
 "metadata": {
  "environment": {
   "name": "common-cpu.m59",
   "type": "gcloud",
   "uri": "gcr.io/deeplearning-platform-release/base-cpu:m59"
  },
  "kernelspec": {
   "display_name": "Python 3",
   "language": "python",
   "name": "python3"
  },
  "language_info": {
   "codemirror_mode": {
    "name": "ipython",
    "version": 3
   },
   "file_extension": ".py",
   "mimetype": "text/x-python",
   "name": "python",
   "nbconvert_exporter": "python",
   "pygments_lexer": "ipython3",
   "version": "3.7.8"
  }
 },
 "nbformat": 4,
 "nbformat_minor": 4
}
