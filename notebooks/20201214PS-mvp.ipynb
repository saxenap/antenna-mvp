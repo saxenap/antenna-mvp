{
 "cells": [
  {
   "cell_type": "code",
   "execution_count": 655,
   "metadata": {},
   "outputs": [],
   "source": [
    "%reload_ext autoreload\n",
    "%autoreload 2\n",
    "import os, sys\n",
    "import logging\n",
    "import numpy as np, pandas as pd\n",
    "import config, rules\n",
    "from utilities import *\n",
    "from _rulesbuilding import *"
   ]
  },
  {
   "cell_type": "code",
   "execution_count": 656,
   "metadata": {},
   "outputs": [
    {
     "name": "stdout",
     "output_type": "stream",
     "text": [
      "{'filename': '01_raw.csv', 'filedir': '/home/jupyter/data', 'fullpath': '/home/jupyter/data/01_raw.csv'}\n"
     ]
    }
   ],
   "source": [
    "print(config.inputs['data'])"
   ]
  },
  {
   "cell_type": "code",
   "execution_count": 657,
   "metadata": {},
   "outputs": [],
   "source": [
    "rules = pd.read_csv(config.inputs['rules']['fullpath'])\n",
    "rules = rules[(rules['text_match'].notna()) & (rules['text_exclude'].notna() == False)]\n",
    "\n",
    "regexer = GroupedDataRegex('|')\n",
    "\n",
    "matchers = []\n",
    "rdecorator = matchers.append(GroupedDataRegexDecorator(regexer, 'M', '(', ')'))\n",
    "sdecorator = matchers.append(GroupedDataRegexDecorator(regexer, 'S', '^(', ').*$'))\n",
    "adecorator = matchers.append(GroupedDataRegexDecorator(regexer, 'A', '^.*(', ').*$'))\n",
    "\n",
    "regexes = {}\n",
    "for matcher in matchers:\n",
    "    type = rules['matching']\n",
    "    regex = rules[rules['matching'] == matcher.getType()][['service_id','text_match']]\n",
    "    regex = matcher.make(regex.groupby('service_id')['text_match']).to_dict()\n",
    "    inv_map = {v: k for k, v in regex.items()}\n",
    "    regexes = {**regexes, **inv_map}"
   ]
  },
  {
   "cell_type": "code",
   "execution_count": 658,
   "metadata": {},
   "outputs": [],
   "source": [
    "signals = {'^.*(' + ('|'.join(v)) + ').*$' : k for k, v in config.inputs['signals'].items()}"
   ]
  },
  {
   "cell_type": "code",
   "execution_count": null,
   "metadata": {},
   "outputs": [],
   "source": []
  },
  {
   "cell_type": "code",
   "execution_count": 659,
   "metadata": {},
   "outputs": [],
   "source": [
    "data = pd.read_csv(config.inputs['data']['fullpath'])"
   ]
  },
  {
   "cell_type": "code",
   "execution_count": 660,
   "metadata": {},
   "outputs": [],
   "source": [
    "data = data[data['status'] != 'D']"
   ]
  },
  {
   "cell_type": "code",
   "execution_count": 661,
   "metadata": {},
   "outputs": [],
   "source": [
    "data = data.sort_values('last_updated').drop_duplicates('item_id',keep='last')"
   ]
  },
  {
   "cell_type": "code",
   "execution_count": 662,
   "metadata": {},
   "outputs": [],
   "source": [
    "data['service_id'] = data[['description']]\n",
    "data['service_id'] = data[['service_id']].replace({'service_id':regexes}, regex=True)"
   ]
  },
  {
   "cell_type": "code",
   "execution_count": 663,
   "metadata": {},
   "outputs": [],
   "source": [
    "data['signal_type'] = data[['description']]\n",
    "data['signal_type'] = data[['signal_type']].replace({'signal_type': signals}, regex = True)"
   ]
  },
  {
   "cell_type": "code",
   "execution_count": null,
   "metadata": {},
   "outputs": [],
   "source": []
  },
  {
   "cell_type": "code",
   "execution_count": 664,
   "metadata": {},
   "outputs": [],
   "source": [
    "csv_data = data.to_csv()"
   ]
  },
  {
   "cell_type": "code",
   "execution_count": 665,
   "metadata": {},
   "outputs": [],
   "source": [
    "save_file(config.inputs['output']['local']['fullpath'], csv_data)"
   ]
  },
  {
   "cell_type": "code",
   "execution_count": 666,
   "metadata": {},
   "outputs": [
    {
     "name": "stdout",
     "output_type": "stream",
     "text": [
      "'https://storage.googleapis.com/antenna-task/processed_data.csv'\n"
     ]
    }
   ],
   "source": [
    "from google.cloud import storage\n",
    "\n",
    "client = storage.Client()\n",
    "\n",
    "output_config = config.inputs['output']\n",
    "bucket = client.get_bucket(output_config['cloud']['bucket_name'])\n",
    "\n",
    "blob = bucket.blob(output_config['local']['filename'])\n",
    "\n",
    "source_file_name = output_config['local']['filename']\n",
    "blob.upload_from_filename(output_config['local']['fullpath'])\n",
    "\n",
    "output(blob.public_url)"
   ]
  },
  {
   "cell_type": "code",
   "execution_count": 667,
   "metadata": {},
   "outputs": [],
   "source": [
    "# print(data.to_string())"
   ]
  }
 ],
 "metadata": {
  "environment": {
   "name": "common-cpu.m59",
   "type": "gcloud",
   "uri": "gcr.io/deeplearning-platform-release/base-cpu:m59"
  },
  "kernelspec": {
   "display_name": "Python 3",
   "language": "python",
   "name": "python3"
  },
  "language_info": {
   "codemirror_mode": {
    "name": "ipython",
    "version": 3
   },
   "file_extension": ".py",
   "mimetype": "text/x-python",
   "name": "python",
   "nbconvert_exporter": "python",
   "pygments_lexer": "ipython3",
   "version": "3.7.8"
  }
 },
 "nbformat": 4,
 "nbformat_minor": 4
}
